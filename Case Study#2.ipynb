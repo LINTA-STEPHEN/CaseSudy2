{
 "cells": [
  {
   "cell_type": "code",
   "execution_count": 5,
   "id": "0800bb73",
   "metadata": {},
   "outputs": [],
   "source": [
    "import pandas as pd"
   ]
  },
  {
   "cell_type": "code",
   "execution_count": 8,
   "id": "97c80608",
   "metadata": {},
   "outputs": [
    {
     "data": {
      "text/html": [
       "<div>\n",
       "<style scoped>\n",
       "    .dataframe tbody tr th:only-of-type {\n",
       "        vertical-align: middle;\n",
       "    }\n",
       "\n",
       "    .dataframe tbody tr th {\n",
       "        vertical-align: top;\n",
       "    }\n",
       "\n",
       "    .dataframe thead th {\n",
       "        text-align: right;\n",
       "    }\n",
       "</style>\n",
       "<table border=\"1\" class=\"dataframe\">\n",
       "  <thead>\n",
       "    <tr style=\"text-align: right;\">\n",
       "      <th></th>\n",
       "      <th>gender</th>\n",
       "      <th>race/ethnicity</th>\n",
       "      <th>parental level of education</th>\n",
       "      <th>lunch</th>\n",
       "      <th>test preparation course</th>\n",
       "      <th>math score</th>\n",
       "      <th>reading score</th>\n",
       "      <th>writing score</th>\n",
       "    </tr>\n",
       "  </thead>\n",
       "  <tbody>\n",
       "    <tr>\n",
       "      <th>0</th>\n",
       "      <td>female</td>\n",
       "      <td>group C</td>\n",
       "      <td>some high school</td>\n",
       "      <td>free/reduced</td>\n",
       "      <td>none</td>\n",
       "      <td>0</td>\n",
       "      <td>17</td>\n",
       "      <td>10</td>\n",
       "    </tr>\n",
       "    <tr>\n",
       "      <th>1</th>\n",
       "      <td>female</td>\n",
       "      <td>group B</td>\n",
       "      <td>high school</td>\n",
       "      <td>free/reduced</td>\n",
       "      <td>none</td>\n",
       "      <td>8</td>\n",
       "      <td>24</td>\n",
       "      <td>23</td>\n",
       "    </tr>\n",
       "    <tr>\n",
       "      <th>2</th>\n",
       "      <td>female</td>\n",
       "      <td>group B</td>\n",
       "      <td>some high school</td>\n",
       "      <td>free/reduced</td>\n",
       "      <td>none</td>\n",
       "      <td>18</td>\n",
       "      <td>32</td>\n",
       "      <td>28</td>\n",
       "    </tr>\n",
       "    <tr>\n",
       "      <th>3</th>\n",
       "      <td>female</td>\n",
       "      <td>group B</td>\n",
       "      <td>some college</td>\n",
       "      <td>standard</td>\n",
       "      <td>none</td>\n",
       "      <td>11</td>\n",
       "      <td>38</td>\n",
       "      <td>32</td>\n",
       "    </tr>\n",
       "    <tr>\n",
       "      <th>4</th>\n",
       "      <td>female</td>\n",
       "      <td>group C</td>\n",
       "      <td>some college</td>\n",
       "      <td>free/reduced</td>\n",
       "      <td>none</td>\n",
       "      <td>22</td>\n",
       "      <td>39</td>\n",
       "      <td>33</td>\n",
       "    </tr>\n",
       "  </tbody>\n",
       "</table>\n",
       "</div>"
      ],
      "text/plain": [
       "   gender race/ethnicity parental level of education         lunch  \\\n",
       "0  female        group C            some high school  free/reduced   \n",
       "1  female        group B                 high school  free/reduced   \n",
       "2  female        group B            some high school  free/reduced   \n",
       "3  female        group B                some college      standard   \n",
       "4  female        group C                some college  free/reduced   \n",
       "\n",
       "  test preparation course  math score  reading score  writing score  \n",
       "0                    none           0             17             10  \n",
       "1                    none           8             24             23  \n",
       "2                    none          18             32             28  \n",
       "3                    none          11             38             32  \n",
       "4                    none          22             39             33  "
      ]
     },
     "execution_count": 8,
     "metadata": {},
     "output_type": "execute_result"
    }
   ],
   "source": [
    "data=pd.read_csv(r'C:\\Users\\Admin\\StudentsPerformance.csv')\n",
    "data.head()"
   ]
  },
  {
   "cell_type": "markdown",
   "id": "ece139e5",
   "metadata": {},
   "source": [
    "# 1Participated Male and Female count"
   ]
  },
  {
   "cell_type": "code",
   "execution_count": 10,
   "id": "3758b8d3",
   "metadata": {},
   "outputs": [
    {
     "data": {
      "text/plain": [
       "female    518\n",
       "male      482\n",
       "Name: gender, dtype: int64"
      ]
     },
     "execution_count": 10,
     "metadata": {},
     "output_type": "execute_result"
    }
   ],
   "source": [
    "df=pd.DataFrame(data)\n",
    "df[\"gender\"].value_counts()"
   ]
  },
  {
   "cell_type": "markdown",
   "id": "be27898b",
   "metadata": {},
   "source": [
    "The number of females participated = 518\n",
    "The number of males participated = 482"
   ]
  },
  {
   "cell_type": "markdown",
   "id": "0987d309",
   "metadata": {},
   "source": [
    "# 2Student's Parent Level of Education"
   ]
  },
  {
   "cell_type": "code",
   "execution_count": 12,
   "id": "8404bad7",
   "metadata": {},
   "outputs": [
    {
     "data": {
      "text/plain": [
       "some college          226\n",
       "associate's degree    222\n",
       "high school           196\n",
       "some high school      179\n",
       "bachelor's degree     118\n",
       "master's degree        59\n",
       "Name: parental level of education, dtype: int64"
      ]
     },
     "execution_count": 12,
     "metadata": {},
     "output_type": "execute_result"
    }
   ],
   "source": [
    "df[\"parental level of education\"].value_counts()"
   ]
  },
  {
   "cell_type": "markdown",
   "id": "74c8d658",
   "metadata": {},
   "source": [
    "Most of the student's parents have some college level of education.Only 59 parents have Master's Degree."
   ]
  },
  {
   "cell_type": "markdown",
   "id": "9bdd1f8c",
   "metadata": {},
   "source": [
    "# 3Scores the Most on Average"
   ]
  },
  {
   "cell_type": "markdown",
   "id": "6b8ce18c",
   "metadata": {},
   "source": [
    "*Gender"
   ]
  },
  {
   "cell_type": "code",
   "execution_count": 20,
   "id": "d11fdd31",
   "metadata": {},
   "outputs": [
    {
     "name": "stdout",
     "output_type": "stream",
     "text": [
      "The gender has the highest math score is \n"
     ]
    },
    {
     "data": {
      "text/plain": [
       "gender\n",
       "male      68.821577\n",
       "female    63.376448\n",
       "Name: math score, dtype: float64"
      ]
     },
     "execution_count": 20,
     "metadata": {},
     "output_type": "execute_result"
    }
   ],
   "source": [
    "A=data.groupby([\"gender\"]).mean()\n",
    "B=A['math score'].sort_values(ascending=False)\n",
    "print('The gender has the highest math score is ')\n",
    "B"
   ]
  },
  {
   "cell_type": "markdown",
   "id": "af8f2258",
   "metadata": {},
   "source": [
    "In Maths, Males scores the most average."
   ]
  },
  {
   "cell_type": "code",
   "execution_count": 21,
   "id": "c39f7fd9",
   "metadata": {},
   "outputs": [
    {
     "name": "stdout",
     "output_type": "stream",
     "text": [
      "The gender has the highest reading score is \n"
     ]
    },
    {
     "data": {
      "text/plain": [
       "gender\n",
       "female    72.590734\n",
       "male      65.545643\n",
       "Name: reading score, dtype: float64"
      ]
     },
     "execution_count": 21,
     "metadata": {},
     "output_type": "execute_result"
    }
   ],
   "source": [
    "C=A['reading score'].sort_values(ascending=False)\n",
    "print('The gender has the highest reading score is ')\n",
    "C"
   ]
  },
  {
   "cell_type": "markdown",
   "id": "eb79dd91",
   "metadata": {},
   "source": [
    "In Reading,Female scores the most average."
   ]
  },
  {
   "cell_type": "code",
   "execution_count": 22,
   "id": "7176adb6",
   "metadata": {},
   "outputs": [
    {
     "name": "stdout",
     "output_type": "stream",
     "text": [
      "The gender has the highest writing score is  \n"
     ]
    },
    {
     "data": {
      "text/plain": [
       "gender\n",
       "female    72.467181\n",
       "male      63.446058\n",
       "Name: writing score, dtype: float64"
      ]
     },
     "execution_count": 22,
     "metadata": {},
     "output_type": "execute_result"
    }
   ],
   "source": [
    "D=A['writing score'].sort_values(ascending=False)\n",
    "print('The gender has the highest writing score is  ')\n",
    "D"
   ]
  },
  {
   "cell_type": "markdown",
   "id": "fd4125d5",
   "metadata": {},
   "source": [
    "In Writing,Females scores the most average."
   ]
  },
  {
   "cell_type": "code",
   "execution_count": 23,
   "id": "cba76993",
   "metadata": {},
   "outputs": [
    {
     "data": {
      "text/plain": [
       "gender\n",
       "female    208.434363\n",
       "male      197.813278\n",
       "dtype: float64"
      ]
     },
     "execution_count": 23,
     "metadata": {},
     "output_type": "execute_result"
    }
   ],
   "source": [
    "sum=B+C+D\n",
    "sum"
   ]
  },
  {
   "cell_type": "markdown",
   "id": "e594ee93",
   "metadata": {},
   "source": [
    "Therefore in gender wise females scores the most average."
   ]
  },
  {
   "cell_type": "markdown",
   "id": "b41f39e5",
   "metadata": {},
   "source": [
    "*Test Prepration Course"
   ]
  },
  {
   "cell_type": "code",
   "execution_count": 24,
   "id": "cdbd9799",
   "metadata": {},
   "outputs": [
    {
     "data": {
      "text/plain": [
       "test preparation course\n",
       "completed    69.96648\n",
       "none         63.78972\n",
       "Name: math score, dtype: float64"
      ]
     },
     "execution_count": 24,
     "metadata": {},
     "output_type": "execute_result"
    }
   ],
   "source": [
    "E=data.groupby([\"test preparation course\"]).mean()\n",
    "F=E['math score']\n",
    "F"
   ]
  },
  {
   "cell_type": "code",
   "execution_count": 25,
   "id": "2f319895",
   "metadata": {},
   "outputs": [
    {
     "data": {
      "text/plain": [
       "test preparation course\n",
       "completed    74.175978\n",
       "none         66.417445\n",
       "Name: reading score, dtype: float64"
      ]
     },
     "execution_count": 25,
     "metadata": {},
     "output_type": "execute_result"
    }
   ],
   "source": [
    "G=E['reading score']\n",
    "G"
   ]
  },
  {
   "cell_type": "code",
   "execution_count": 26,
   "id": "4f272a20",
   "metadata": {},
   "outputs": [
    {
     "data": {
      "text/plain": [
       "test preparation course\n",
       "completed    74.684358\n",
       "none         64.457944\n",
       "Name: writing score, dtype: float64"
      ]
     },
     "execution_count": 26,
     "metadata": {},
     "output_type": "execute_result"
    }
   ],
   "source": [
    "H=E['writing score']\n",
    "H"
   ]
  },
  {
   "cell_type": "code",
   "execution_count": 27,
   "id": "25c9a241",
   "metadata": {},
   "outputs": [
    {
     "data": {
      "text/plain": [
       "test preparation course\n",
       "completed    218.826816\n",
       "none         194.665109\n",
       "dtype: float64"
      ]
     },
     "execution_count": 27,
     "metadata": {},
     "output_type": "execute_result"
    }
   ],
   "source": [
    "sum=F+G+H\n",
    "sum"
   ]
  },
  {
   "cell_type": "markdown",
   "id": "be80c083",
   "metadata": {},
   "source": [
    "Most students completed the test prepration course."
   ]
  },
  {
   "cell_type": "markdown",
   "id": "011fb5a2",
   "metadata": {},
   "source": [
    "# 4Scoring Variations"
   ]
  },
  {
   "cell_type": "markdown",
   "id": "fd09d5d8",
   "metadata": {},
   "source": [
    "*Gender"
   ]
  },
  {
   "cell_type": "code",
   "execution_count": 28,
   "id": "1e11c1ac",
   "metadata": {},
   "outputs": [
    {
     "name": "stdout",
     "output_type": "stream",
     "text": [
      "math score is \n"
     ]
    },
    {
     "data": {
      "text/plain": [
       "gender\n",
       "male      14.556411\n",
       "female    16.029928\n",
       "Name: math score, dtype: float64"
      ]
     },
     "execution_count": 28,
     "metadata": {},
     "output_type": "execute_result"
    }
   ],
   "source": [
    "I=data.groupby([\"gender\"]).std()\n",
    "J=I['math score'].sort_values()\n",
    "print('math score is ')\n",
    "J"
   ]
  },
  {
   "cell_type": "code",
   "execution_count": 29,
   "id": "9e56bf93",
   "metadata": {},
   "outputs": [
    {
     "name": "stdout",
     "output_type": "stream",
     "text": [
      "reading score is \n"
     ]
    },
    {
     "data": {
      "text/plain": [
       "gender\n",
       "male      14.149594\n",
       "female    14.411018\n",
       "Name: reading score, dtype: float64"
      ]
     },
     "execution_count": 29,
     "metadata": {},
     "output_type": "execute_result"
    }
   ],
   "source": [
    "K=I['reading score'].sort_values()\n",
    "print('reading score is ')\n",
    "K"
   ]
  },
  {
   "cell_type": "code",
   "execution_count": 30,
   "id": "be2975d0",
   "metadata": {},
   "outputs": [
    {
     "name": "stdout",
     "output_type": "stream",
     "text": [
      "writing score is \n"
     ]
    },
    {
     "data": {
      "text/plain": [
       "gender\n",
       "male      14.227225\n",
       "female    14.844842\n",
       "Name: writing score, dtype: float64"
      ]
     },
     "execution_count": 30,
     "metadata": {},
     "output_type": "execute_result"
    }
   ],
   "source": [
    "L=I['writing score'].sort_values()\n",
    "print('writing score is ')\n",
    "L"
   ]
  },
  {
   "cell_type": "code",
   "execution_count": 31,
   "id": "fa62edc4",
   "metadata": {},
   "outputs": [
    {
     "data": {
      "text/plain": [
       "gender\n",
       "male      42.933230\n",
       "female    45.285788\n",
       "dtype: float64"
      ]
     },
     "execution_count": 31,
     "metadata": {},
     "output_type": "execute_result"
    }
   ],
   "source": [
    "sum=J+K+L\n",
    "sum"
   ]
  },
  {
   "cell_type": "markdown",
   "id": "09cddb78",
   "metadata": {},
   "source": [
    "*Test Prepration Course"
   ]
  },
  {
   "cell_type": "code",
   "execution_count": 32,
   "id": "83d7ce93",
   "metadata": {},
   "outputs": [
    {
     "data": {
      "text/plain": [
       "test preparation course\n",
       "completed    14.521847\n",
       "none         15.705689\n",
       "Name: math score, dtype: float64"
      ]
     },
     "execution_count": 32,
     "metadata": {},
     "output_type": "execute_result"
    }
   ],
   "source": [
    "M=data.groupby([\"test preparation course\"]).std()\n",
    "N=M['math score']\n",
    "N"
   ]
  },
  {
   "cell_type": "code",
   "execution_count": 33,
   "id": "cc6b845a",
   "metadata": {},
   "outputs": [
    {
     "data": {
      "text/plain": [
       "test preparation course\n",
       "completed    13.537572\n",
       "none         14.608896\n",
       "Name: reading score, dtype: float64"
      ]
     },
     "execution_count": 33,
     "metadata": {},
     "output_type": "execute_result"
    }
   ],
   "source": [
    "O=M['reading score']\n",
    "O"
   ]
  },
  {
   "cell_type": "code",
   "execution_count": 34,
   "id": "7797550c",
   "metadata": {},
   "outputs": [
    {
     "data": {
      "text/plain": [
       "test preparation course\n",
       "completed    13.236412\n",
       "none         15.041667\n",
       "Name: writing score, dtype: float64"
      ]
     },
     "execution_count": 34,
     "metadata": {},
     "output_type": "execute_result"
    }
   ],
   "source": [
    "P=M['writing score']\n",
    "P"
   ]
  },
  {
   "cell_type": "code",
   "execution_count": 35,
   "id": "23c97a59",
   "metadata": {},
   "outputs": [
    {
     "data": {
      "text/plain": [
       "test preparation course\n",
       "completed    41.295831\n",
       "none         45.356252\n",
       "dtype: float64"
      ]
     },
     "execution_count": 35,
     "metadata": {},
     "output_type": "execute_result"
    }
   ],
   "source": [
    "sum=N+O+P\n",
    "sum"
   ]
  },
  {
   "cell_type": "markdown",
   "id": "12bc4b8d",
   "metadata": {},
   "source": [
    "# 5Bonus Points"
   ]
  },
  {
   "cell_type": "code",
   "execution_count": 37,
   "id": "9647a0b8",
   "metadata": {},
   "outputs": [],
   "source": [
    "import numpy as np"
   ]
  },
  {
   "cell_type": "code",
   "execution_count": 38,
   "id": "8d8764f5",
   "metadata": {},
   "outputs": [
    {
     "data": {
      "text/plain": [
       "77.0"
      ]
     },
     "execution_count": 38,
     "metadata": {},
     "output_type": "execute_result"
    }
   ],
   "source": [
    "Third_quartile=np.quantile(data['math score'],0.75)\n",
    "Third_quartile"
   ]
  },
  {
   "cell_type": "code",
   "execution_count": 39,
   "id": "bb005615",
   "metadata": {},
   "outputs": [
    {
     "data": {
      "text/html": [
       "<div>\n",
       "<style scoped>\n",
       "    .dataframe tbody tr th:only-of-type {\n",
       "        vertical-align: middle;\n",
       "    }\n",
       "\n",
       "    .dataframe tbody tr th {\n",
       "        vertical-align: top;\n",
       "    }\n",
       "\n",
       "    .dataframe thead th {\n",
       "        text-align: right;\n",
       "    }\n",
       "</style>\n",
       "<table border=\"1\" class=\"dataframe\">\n",
       "  <thead>\n",
       "    <tr style=\"text-align: right;\">\n",
       "      <th></th>\n",
       "      <th>gender</th>\n",
       "      <th>race/ethnicity</th>\n",
       "      <th>parental level of education</th>\n",
       "      <th>lunch</th>\n",
       "      <th>test preparation course</th>\n",
       "      <th>math score</th>\n",
       "      <th>reading score</th>\n",
       "      <th>writing score</th>\n",
       "    </tr>\n",
       "  </thead>\n",
       "  <tbody>\n",
       "    <tr>\n",
       "      <th>999</th>\n",
       "      <td>male</td>\n",
       "      <td>group E</td>\n",
       "      <td>bachelor's degree</td>\n",
       "      <td>standard</td>\n",
       "      <td>completed</td>\n",
       "      <td>100</td>\n",
       "      <td>100</td>\n",
       "      <td>100</td>\n",
       "    </tr>\n",
       "    <tr>\n",
       "      <th>996</th>\n",
       "      <td>male</td>\n",
       "      <td>group A</td>\n",
       "      <td>some college</td>\n",
       "      <td>standard</td>\n",
       "      <td>completed</td>\n",
       "      <td>100</td>\n",
       "      <td>96</td>\n",
       "      <td>86</td>\n",
       "    </tr>\n",
       "    <tr>\n",
       "      <th>515</th>\n",
       "      <td>female</td>\n",
       "      <td>group E</td>\n",
       "      <td>some college</td>\n",
       "      <td>standard</td>\n",
       "      <td>none</td>\n",
       "      <td>100</td>\n",
       "      <td>92</td>\n",
       "      <td>97</td>\n",
       "    </tr>\n",
       "    <tr>\n",
       "      <th>517</th>\n",
       "      <td>female</td>\n",
       "      <td>group E</td>\n",
       "      <td>associate's degree</td>\n",
       "      <td>standard</td>\n",
       "      <td>none</td>\n",
       "      <td>100</td>\n",
       "      <td>100</td>\n",
       "      <td>100</td>\n",
       "    </tr>\n",
       "    <tr>\n",
       "      <th>516</th>\n",
       "      <td>female</td>\n",
       "      <td>group E</td>\n",
       "      <td>bachelor's degree</td>\n",
       "      <td>standard</td>\n",
       "      <td>none</td>\n",
       "      <td>100</td>\n",
       "      <td>100</td>\n",
       "      <td>100</td>\n",
       "    </tr>\n",
       "    <tr>\n",
       "      <th>...</th>\n",
       "      <td>...</td>\n",
       "      <td>...</td>\n",
       "      <td>...</td>\n",
       "      <td>...</td>\n",
       "      <td>...</td>\n",
       "      <td>...</td>\n",
       "      <td>...</td>\n",
       "      <td>...</td>\n",
       "    </tr>\n",
       "    <tr>\n",
       "      <th>856</th>\n",
       "      <td>male</td>\n",
       "      <td>group E</td>\n",
       "      <td>some high school</td>\n",
       "      <td>standard</td>\n",
       "      <td>completed</td>\n",
       "      <td>77</td>\n",
       "      <td>76</td>\n",
       "      <td>77</td>\n",
       "    </tr>\n",
       "    <tr>\n",
       "      <th>855</th>\n",
       "      <td>male</td>\n",
       "      <td>group E</td>\n",
       "      <td>associate's degree</td>\n",
       "      <td>free/reduced</td>\n",
       "      <td>completed</td>\n",
       "      <td>77</td>\n",
       "      <td>69</td>\n",
       "      <td>68</td>\n",
       "    </tr>\n",
       "    <tr>\n",
       "      <th>854</th>\n",
       "      <td>male</td>\n",
       "      <td>group D</td>\n",
       "      <td>some high school</td>\n",
       "      <td>standard</td>\n",
       "      <td>completed</td>\n",
       "      <td>77</td>\n",
       "      <td>68</td>\n",
       "      <td>69</td>\n",
       "    </tr>\n",
       "    <tr>\n",
       "      <th>853</th>\n",
       "      <td>male</td>\n",
       "      <td>group D</td>\n",
       "      <td>associate's degree</td>\n",
       "      <td>free/reduced</td>\n",
       "      <td>none</td>\n",
       "      <td>77</td>\n",
       "      <td>78</td>\n",
       "      <td>73</td>\n",
       "    </tr>\n",
       "    <tr>\n",
       "      <th>852</th>\n",
       "      <td>male</td>\n",
       "      <td>group D</td>\n",
       "      <td>some college</td>\n",
       "      <td>free/reduced</td>\n",
       "      <td>none</td>\n",
       "      <td>77</td>\n",
       "      <td>62</td>\n",
       "      <td>64</td>\n",
       "    </tr>\n",
       "  </tbody>\n",
       "</table>\n",
       "<p>250 rows × 8 columns</p>\n",
       "</div>"
      ],
      "text/plain": [
       "     gender race/ethnicity parental level of education         lunch  \\\n",
       "999    male        group E           bachelor's degree      standard   \n",
       "996    male        group A                some college      standard   \n",
       "515  female        group E                some college      standard   \n",
       "517  female        group E          associate's degree      standard   \n",
       "516  female        group E           bachelor's degree      standard   \n",
       "..      ...            ...                         ...           ...   \n",
       "856    male        group E            some high school      standard   \n",
       "855    male        group E          associate's degree  free/reduced   \n",
       "854    male        group D            some high school      standard   \n",
       "853    male        group D          associate's degree  free/reduced   \n",
       "852    male        group D                some college  free/reduced   \n",
       "\n",
       "    test preparation course  math score  reading score  writing score  \n",
       "999               completed         100            100            100  \n",
       "996               completed         100             96             86  \n",
       "515                    none         100             92             97  \n",
       "517                    none         100            100            100  \n",
       "516                    none         100            100            100  \n",
       "..                      ...         ...            ...            ...  \n",
       "856               completed          77             76             77  \n",
       "855               completed          77             69             68  \n",
       "854               completed          77             68             69  \n",
       "853                    none          77             78             73  \n",
       "852                    none          77             62             64  \n",
       "\n",
       "[250 rows x 8 columns]"
      ]
     },
     "execution_count": 39,
     "metadata": {},
     "output_type": "execute_result"
    }
   ],
   "source": [
    "math_score=data.sort_values(by=['math score'],ascending=False)\n",
    "n=25\n",
    "math_score.head(int(len(math_score)*(n/100)))"
   ]
  }
 ],
 "metadata": {
  "kernelspec": {
   "display_name": "Python 3 (ipykernel)",
   "language": "python",
   "name": "python3"
  },
  "language_info": {
   "codemirror_mode": {
    "name": "ipython",
    "version": 3
   },
   "file_extension": ".py",
   "mimetype": "text/x-python",
   "name": "python",
   "nbconvert_exporter": "python",
   "pygments_lexer": "ipython3",
   "version": "3.9.12"
  }
 },
 "nbformat": 4,
 "nbformat_minor": 5
}
